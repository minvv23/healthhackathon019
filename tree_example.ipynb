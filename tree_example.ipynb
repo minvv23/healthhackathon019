{
 "cells": [
  {
   "cell_type": "code",
   "execution_count": 1,
   "metadata": {},
   "outputs": [],
   "source": [
    "import numpy as np, pandas as pd\n",
    "from tree_maker import csv_to_jsontree"
   ]
  },
  {
   "cell_type": "code",
   "execution_count": 8,
   "metadata": {},
   "outputs": [
    {
     "data": {
      "text/plain": [
       "{'name': '열이 나나요?',\n",
       " 'children': [{'name': '예',\n",
       "   'children': [{'name': '<end>',\n",
       "     'children': [{'name': '</end>',\n",
       "       'children': [{'name': '', 'children': [{'name': ''}]}]}]}]},\n",
       "  {'name': '아니오',\n",
       "   'children': [{'name': '<end>',\n",
       "     'children': [{'name': '</end>',\n",
       "       'children': [{'name': '', 'children': [{'name': ''}]}]}]}]}]}"
      ]
     },
     "execution_count": 8,
     "metadata": {},
     "output_type": "execute_result"
    }
   ],
   "source": [
    "csv_to_jsontree('disease_example.csv')[0]"
   ]
  },
  {
   "cell_type": "code",
   "execution_count": 135,
   "metadata": {},
   "outputs": [
    {
     "name": "stdout",
     "output_type": "stream",
     "text": [
      "어떤 것을 드시고 싶나요?\n",
      "1. 샷\n",
      "2. 칵테일\n"
     ]
    },
    {
     "name": "stdin",
     "output_type": "stream",
     "text": [
      " 칵테일\n"
     ]
    }
   ],
   "source": [
    "cocktail_tree = csv_to_jsontree('cocktail_example.csv')[0]\n",
    "answer_list = []\n",
    "print(cocktail_tree['name'])\n",
    "for idx, each_answer in enumerate(cocktail_tree['children']) :\n",
    "    print(str(idx+1)+'. '+ each_answer['name'])\n",
    "answer1 = str(input())\n",
    "answer_list.append(answer1)"
   ]
  },
  {
   "cell_type": "code",
   "execution_count": 147,
   "metadata": {},
   "outputs": [
    {
     "data": {
      "text/plain": [
       "'과일 맛이 나면 좋을까요?'"
      ]
     },
     "execution_count": 147,
     "metadata": {},
     "output_type": "execute_result"
    }
   ],
   "source": [
    "def qna_printer(input_dict) :\n",
    "    "
   ]
  },
  {
   "cell_type": "code",
   "execution_count": 148,
   "metadata": {},
   "outputs": [
    {
     "data": {
      "text/plain": [
       "{'name': '어떤 것을 드시고 싶나요?',\n",
       " 'children': [{'name': '샷',\n",
       "   'children': [{'name': '어떤 술을 드시고 싶으신지 말해주세요?',\n",
       "     'children': [{'name': '위스키',\n",
       "       'children': [{'name': '위스키 자주 드셔보셨나요?',\n",
       "         'children': [{'name': '아니오',\n",
       "           'children': [{'name': '스카치 위스키?(영국) 아니면 버번 위스키?(미국)',\n",
       "             'children': [{'name': '버번',\n",
       "               'children': [{'name': '가격이 다소 있는 고급 라인업도 괜찮으실까요?',\n",
       "                 'children': [{'name': '예',\n",
       "                   'children': [{'name': '<end>',\n",
       "                     'children': [{'name': '와일드터키 레어브리드',\n",
       "                       'children': [{'name': '',\n",
       "                         'children': [{'name': ''}]}]}]}]},\n",
       "                  {'name': '아니오',\n",
       "                   'children': [{'name': '<end>',\n",
       "                     'children': [{'name': '메이커스마크',\n",
       "                       'children': [{'name': '',\n",
       "                         'children': [{'name': ''}]}]}]}]}]}]},\n",
       "              {'name': '스카치',\n",
       "               'children': [{'name': '가격이 다소 있는 고급 라인업도 괜찮으실까요?',\n",
       "                 'children': [{'name': '예',\n",
       "                   'children': [{'name': '<end>',\n",
       "                     'children': [{'name': '조니워커 골드',\n",
       "                       'children': [{'name': '',\n",
       "                         'children': [{'name': ''}]}]}]}]},\n",
       "                  {'name': '아니오',\n",
       "                   'children': [{'name': '<end>',\n",
       "                     'children': [{'name': '조니워커 블랙',\n",
       "                       'children': [{'name': '', 'children': [{'name': ''}]}]},\n",
       "                      {'name': '그랜드 올드 파',\n",
       "                       'children': [{'name': '',\n",
       "                         'children': [{'name': ''}]}]}]}]}]}]}]}]},\n",
       "          {'name': '예',\n",
       "           'children': [{'name': '탄맛/짠맛이 좋으신가요 아니면 단맛이 좋으신가요?',\n",
       "             'children': [{'name': '단맛',\n",
       "               'children': [{'name': '가격이 다소 있는 고급 라인업도 괜찮으실까요?',\n",
       "                 'children': [{'name': '예',\n",
       "                   'children': [{'name': '<end>',\n",
       "                     'children': [{'name': '글렌모렌지 넥타도르',\n",
       "                       'children': [{'name': '',\n",
       "                         'children': [{'name': ''}]}]}]}]},\n",
       "                  {'name': '아니오',\n",
       "                   'children': [{'name': '<end>',\n",
       "                     'children': [{'name': '아란 15년',\n",
       "                       'children': [{'name': '',\n",
       "                         'children': [{'name': ''}]}]}]}]}]}]},\n",
       "              {'name': '탄맛/짠맛',\n",
       "               'children': [{'name': '\"피트 위스키\"를 드셔보신 적이 있나요?',\n",
       "                 'children': [{'name': '예',\n",
       "                   'children': [{'name': '가격이 다소 있는 고급 라인업도 괜찮으실까요?',\n",
       "                     'children': [{'name': '예',\n",
       "                       'children': [{'name': '<end>',\n",
       "                         'children': [{'name': '쿠오 일라 25년'}]}]},\n",
       "                      {'name': '아니오',\n",
       "                       'children': [{'name': '<end>',\n",
       "                         'children': [{'name': '아드벡 10년'}]}]}]}]},\n",
       "                  {'name': '아니오',\n",
       "                   'children': [{'name': '<end>',\n",
       "                     'children': [{'name': '라프로익 10년',\n",
       "                       'children': [{'name': '',\n",
       "                         'children': [{'name': ''}]}]}]}]}]}]}]}]}]}]},\n",
       "      {'name': '진',\n",
       "       'children': [{'name': '진 자주 드셔보셨나요?',\n",
       "         'children': [{'name': '예',\n",
       "           'children': [{'name': '오이 향이 나도 괜찮나요?',\n",
       "             'children': [{'name': '예',\n",
       "               'children': [{'name': '<end>',\n",
       "                 'children': [{'name': '헨드릭스',\n",
       "                   'children': [{'name': '',\n",
       "                     'children': [{'name': '',\n",
       "                       'children': [{'name': '',\n",
       "                         'children': [{'name': ''}]}]}]}]}]}]},\n",
       "              {'name': '아니오',\n",
       "               'children': [{'name': '<end>',\n",
       "                 'children': [{'name': '보타니스트',\n",
       "                   'children': [{'name': '',\n",
       "                     'children': [{'name': '',\n",
       "                       'children': [{'name': '',\n",
       "                         'children': [{'name': ''}]}]}]}]}]}]}]}]},\n",
       "          {'name': '아니오',\n",
       "           'children': [{'name': '<end>',\n",
       "             'children': [{'name': '탱커레이',\n",
       "               'children': [{'name': '',\n",
       "                 'children': [{'name': '',\n",
       "                   'children': [{'name': '',\n",
       "                     'children': [{'name': '',\n",
       "                       'children': [{'name': '',\n",
       "                         'children': [{'name': ''}]}]}]}]}]}]}]}]}]}]}]}]},\n",
       "  {'name': '칵테일',\n",
       "   'children': [{'name': '과일 맛이 나면 좋을까요?',\n",
       "     'children': [{'name': '예',\n",
       "       'children': [{'name': '유유 및 크림이 들어가도 되나요?',\n",
       "         'children': [{'name': '예',\n",
       "           'children': [{'name': '탄산이 들어가도 될까요?',\n",
       "             'children': [{'name': '예',\n",
       "               'children': [{'name': '<end>',\n",
       "                 'children': [{'name': '뉴올리언즈피즈',\n",
       "                   'children': [{'name': '',\n",
       "                     'children': [{'name': '',\n",
       "                       'children': [{'name': '',\n",
       "                         'children': [{'name': ''}]}]}]}]}]}]},\n",
       "              {'name': '아니오',\n",
       "               'children': [{'name': '<end>',\n",
       "                 'children': [{'name': '블루 발레',\n",
       "                   'children': [{'name': '',\n",
       "                     'children': [{'name': '',\n",
       "                       'children': [{'name': '',\n",
       "                         'children': [{'name': ''}]}]}]}]}]}]}]}]},\n",
       "          {'name': '아니오',\n",
       "           'children': [{'name': '탄산이 들어가도 될까요?',\n",
       "             'children': [{'name': '예',\n",
       "               'children': [{'name': '<end>',\n",
       "                 'children': [{'name': '롱아일랜드아이스티',\n",
       "                   'children': [{'name': '',\n",
       "                     'children': [{'name': '',\n",
       "                       'children': [{'name': '',\n",
       "                         'children': [{'name': ''}]}]}]}]}]}]}]}]}]},\n",
       "        {'name': '우유 및 크림이 들어가도 되나요?',\n",
       "         'children': [{'name': '아니오',\n",
       "           'children': [{'name': '탄산이 들어가도 될까요?',\n",
       "             'children': [{'name': '아니오',\n",
       "               'children': [{'name': '<end>',\n",
       "                 'children': [{'name': '아마레또 사워',\n",
       "                   'children': [{'name': '',\n",
       "                     'children': [{'name': '',\n",
       "                       'children': [{'name': '',\n",
       "                         'children': [{'name': ''}]}]}]}]}]}]}]}]}]}]},\n",
       "      {'name': '아니오',\n",
       "       'children': [{'name': '우유 및 크림이 들어가도 되나요?',\n",
       "         'children': [{'name': '예',\n",
       "           'children': [{'name': '민트 맛을 좋아하시나요?',\n",
       "             'children': [{'name': '예',\n",
       "               'children': [{'name': '<end>',\n",
       "                 'children': [{'name': '그래스호퍼',\n",
       "                   'children': [{'name': '',\n",
       "                     'children': [{'name': '',\n",
       "                       'children': [{'name': '',\n",
       "                         'children': [{'name': ''}]}]}]}]}]}]},\n",
       "              {'name': '아니오',\n",
       "               'children': [{'name': '<end>',\n",
       "                 'children': [{'name': '화이트러시안',\n",
       "                   'children': [{'name': '',\n",
       "                     'children': [{'name': '',\n",
       "                       'children': [{'name': '',\n",
       "                         'children': [{'name': ''}]}]}]}]}]}]}]}]},\n",
       "          {'name': '아니오',\n",
       "           'children': [{'name': '도수가 높아도 괜찮나요?',\n",
       "             'children': [{'name': '예',\n",
       "               'children': [{'name': '<end>',\n",
       "                 'children': [{'name': '파우스트',\n",
       "                   'children': [{'name': '',\n",
       "                     'children': [{'name': '',\n",
       "                       'children': [{'name': '',\n",
       "                         'children': [{'name': ''}]}]}]}]}]}]},\n",
       "              {'name': '아니오',\n",
       "               'children': [{'name': '탄산이 들어가도 될까요?',\n",
       "                 'children': [{'name': '예',\n",
       "                   'children': [{'name': '<end>',\n",
       "                     'children': [{'name': '진토닉',\n",
       "                       'children': [{'name': '',\n",
       "                         'children': [{'name': ''}]}]}]}]},\n",
       "                  {'name': '아니오',\n",
       "                   'children': [{'name': '<end>',\n",
       "                     'children': [{'name': '프란젤리코 니트',\n",
       "                       'children': [{'name': '',\n",
       "                         'children': [{'name': ''}]}]}]}]}]}]}]}]}]}]}]}]}]}"
      ]
     },
     "execution_count": 148,
     "metadata": {},
     "output_type": "execute_result"
    }
   ],
   "source": [
    "cocktail_tree"
   ]
  }
 ],
 "metadata": {
  "kernelspec": {
   "display_name": "Python 3",
   "language": "python",
   "name": "python3"
  },
  "language_info": {
   "codemirror_mode": {
    "name": "ipython",
    "version": 3
   },
   "file_extension": ".py",
   "mimetype": "text/x-python",
   "name": "python",
   "nbconvert_exporter": "python",
   "pygments_lexer": "ipython3",
   "version": "3.7.3"
  }
 },
 "nbformat": 4,
 "nbformat_minor": 2
}
