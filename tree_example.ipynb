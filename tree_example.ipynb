{
 "cells": [
  {
   "cell_type": "code",
   "execution_count": 2,
   "metadata": {},
   "outputs": [],
   "source": [
    "import numpy as np, pandas as pd\n",
    "from tree_maker import csv_to_jsontree"
   ]
  },
  {
   "cell_type": "code",
   "execution_count": 3,
   "metadata": {},
   "outputs": [
    {
     "data": {
      "text/plain": [
       "[{'name': '열이 나나요?',\n",
       "  'children': [{'name': '예',\n",
       "    'children': [{'name': '<end>',\n",
       "      'children': [{'name': '</end>',\n",
       "        'children': [{'name': '', 'children': [{'name': ''}]}]}]}]},\n",
       "   {'name': '아니오',\n",
       "    'children': [{'name': '<end>',\n",
       "      'children': [{'name': '</end>',\n",
       "        'children': [{'name': '', 'children': [{'name': ''}]}]}]}]}]},\n",
       " {'name': '언제부터아팠나요',\n",
       "  'children': [{'name': '1일',\n",
       "    'children': [{'name': '<end>',\n",
       "      'children': [{'name': '</end>',\n",
       "        'children': [{'name': '', 'children': [{'name': ''}]}]}]}]},\n",
       "   {'name': '1-7일',\n",
       "    'children': [{'name': '<end>',\n",
       "      'children': [{'name': '</end>',\n",
       "        'children': [{'name': '', 'children': [{'name': ''}]}]}]}]},\n",
       "   {'name': '7-30일',\n",
       "    'children': [{'name': '<end>',\n",
       "      'children': [{'name': '</end>',\n",
       "        'children': [{'name': '', 'children': [{'name': ''}]}]}]}]},\n",
       "   {'name': '30일 이상',\n",
       "    'children': [{'name': '<end>',\n",
       "      'children': [{'name': '</end>',\n",
       "        'children': [{'name': '', 'children': [{'name': ''}]}]}]}]}]},\n",
       " {'name': '술을 드셨나요?',\n",
       "  'children': [{'name': '예',\n",
       "    'children': [{'name': '취할 정도로 많이 드셨나요?',\n",
       "      'children': [{'name': '예',\n",
       "        'children': [{'name': '<end>', 'children': [{'name': '</end>'}]}]},\n",
       "       {'name': '아니오',\n",
       "        'children': [{'name': '<end>', 'children': [{'name': '</end>'}]}]}]}]},\n",
       "   {'name': '아니오',\n",
       "    'children': [{'name': '<end>',\n",
       "      'children': [{'name': '</end>',\n",
       "        'children': [{'name': '', 'children': [{'name': ''}]}]}]}]}]},\n",
       " {'name': '설사도 하시나요?',\n",
       "  'children': [{'name': '예',\n",
       "    'children': [{'name': '<end>',\n",
       "      'children': [{'name': '</end>',\n",
       "        'children': [{'name': '', 'children': [{'name': ''}]}]}]}]},\n",
       "   {'name': '아니오',\n",
       "    'children': [{'name': '<end>',\n",
       "      'children': [{'name': '</end>',\n",
       "        'children': [{'name': '', 'children': [{'name': ''}]}]}]}]}]}]"
      ]
     },
     "execution_count": 3,
     "metadata": {},
     "output_type": "execute_result"
    }
   ],
   "source": [
    "csv_to_jsontree('disease_example.csv')"
   ]
  }
 ],
 "metadata": {
  "kernelspec": {
   "display_name": "Python 3",
   "language": "python",
   "name": "python3"
  },
  "language_info": {
   "codemirror_mode": {
    "name": "ipython",
    "version": 3
   },
   "file_extension": ".py",
   "mimetype": "text/x-python",
   "name": "python",
   "nbconvert_exporter": "python",
   "pygments_lexer": "ipython3",
   "version": "3.7.3"
  }
 },
 "nbformat": 4,
 "nbformat_minor": 2
}
