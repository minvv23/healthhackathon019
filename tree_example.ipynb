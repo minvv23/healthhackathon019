{
 "cells": [
  {
   "cell_type": "code",
   "execution_count": 28,
   "metadata": {},
   "outputs": [],
   "source": [
    "import numpy as np, pandas as pd\n",
    "from tree_maker import csv_to_jsontree"
   ]
  },
  {
   "cell_type": "code",
   "execution_count": 38,
   "metadata": {},
   "outputs": [],
   "source": [
    "csvfile = pd.read_csv('test_csvfile.csv')"
   ]
  },
  {
   "cell_type": "code",
   "execution_count": 36,
   "metadata": {},
   "outputs": [
    {
     "name": "stdout",
     "output_type": "stream",
     "text": [
      "length is 3\n"
     ]
    }
   ],
   "source": [
    "x = csv_to_jsontree('test_csvfile.csv')\n",
    "print('length is', len(x))"
   ]
  },
  {
   "cell_type": "code",
   "execution_count": 37,
   "metadata": {},
   "outputs": [
    {
     "data": {
      "text/plain": [
       "{'name': 'oxygen',\n",
       " 'children': [{'name': 'grass',\n",
       "   'children': [{'name': 'G1', 'children': [{'name': 'T1'}]},\n",
       "    {'name': 'G2', 'children': [{'name': 'T1'}, {'name': 'T2'}]}]},\n",
       "  {'name': 'bomb',\n",
       "   'children': [{'name': 'GYYS', 'children': [{'name': 'T1'}]}]}]}"
      ]
     },
     "execution_count": 37,
     "metadata": {},
     "output_type": "execute_result"
    }
   ],
   "source": [
    "x[0]"
   ]
  }
 ],
 "metadata": {
  "kernelspec": {
   "display_name": "Python 3",
   "language": "python",
   "name": "python3"
  },
  "language_info": {
   "codemirror_mode": {
    "name": "ipython",
    "version": 3
   },
   "file_extension": ".py",
   "mimetype": "text/x-python",
   "name": "python",
   "nbconvert_exporter": "python",
   "pygments_lexer": "ipython3",
   "version": "3.7.3"
  }
 },
 "nbformat": 4,
 "nbformat_minor": 2
}
