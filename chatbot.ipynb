{
 "cells": [
  {
   "cell_type": "code",
   "execution_count": 41,
   "metadata": {},
   "outputs": [],
   "source": [
    "from tree_maker import csv_to_jsontree"
   ]
  },
  {
   "cell_type": "code",
   "execution_count": 43,
   "metadata": {},
   "outputs": [],
   "source": [
    "example=csv_to_jsontree('disease_example.csv')"
   ]
  },
  {
   "cell_type": "code",
   "execution_count": 54,
   "metadata": {},
   "outputs": [],
   "source": [
    "def chatbot(question_tree):\n",
    "    \n",
    "    for i in range(len(question_tree)):\n",
    "        print(question_tree[i]['name'])\n",
    "        possible_answer=list()\n",
    "        a=list()\n",
    "        \n",
    "        \n",
    "        for j in range(len(question_tree[i]['children'])):\n",
    "            possible_answer.append(question_tree[i]['children'][j]['name'])\n",
    "        print('가능한 답변 : ',possible_answer)\n",
    "        answer = input('답 : ')\n",
    "        \n",
    "        while not(answer in possible_answer):\n",
    "            print('다시 입력 해 주십시오')\n",
    "            answer=input('답 : ')\n",
    "        a.append([question_tree[i]['name'],answer])\n",
    "        \n",
    "        \n",
    "        if question_tree[i]['children'][possible_answer.index(answer)]['children'][0]['name']=='<end>':\n",
    "            continue\n",
    "        \n",
    "        else:\n",
    "            chatbot(question_tree[i]['children'][possible_answer.index(answer)]['children'])\n",
    "       "
   ]
  },
  {
   "cell_type": "code",
   "execution_count": 55,
   "metadata": {},
   "outputs": [
    {
     "name": "stdout",
     "output_type": "stream",
     "text": [
      "열이 나나요?\n",
      "가능한 답변 :  ['예', '아니오']\n",
      "답 : 예\n",
      "언제부터아팠나요\n",
      "가능한 답변 :  ['1일', '1-7일', '7-30일', '30일 이상']\n",
      "답 : 1일\n",
      "술을 드셨나요?\n",
      "가능한 답변 :  ['예', '아니오']\n",
      "답 : 똥\n",
      "다시 입력 해 주십시오\n",
      "답 : 예\n",
      "취할 정도로 많이 드셨나요?\n",
      "가능한 답변 :  ['예', '아니오']\n",
      "답 : 아니오\n",
      "설사도 하시나요?\n",
      "가능한 답변 :  ['예', '아니오']\n",
      "답 : 예\n"
     ]
    }
   ],
   "source": [
    "chatbot(example)\n"
   ]
  },
  {
   "cell_type": "code",
   "execution_count": 51,
   "metadata": {},
   "outputs": [
    {
     "name": "stdout",
     "output_type": "stream",
     "text": [
      "['a']\n"
     ]
    }
   ],
   "source": []
  }
 ],
 "metadata": {
  "kernelspec": {
   "display_name": "Python 3",
   "language": "python",
   "name": "python3"
  },
  "language_info": {
   "codemirror_mode": {
    "name": "ipython",
    "version": 3
   },
   "file_extension": ".py",
   "mimetype": "text/x-python",
   "name": "python",
   "nbconvert_exporter": "python",
   "pygments_lexer": "ipython3",
   "version": "3.7.3"
  }
 },
 "nbformat": 4,
 "nbformat_minor": 2
}
