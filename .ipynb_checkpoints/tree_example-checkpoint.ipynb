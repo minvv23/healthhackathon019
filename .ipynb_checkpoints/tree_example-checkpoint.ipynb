{
 "cells": [
  {
   "cell_type": "code",
   "execution_count": 14,
   "metadata": {},
   "outputs": [],
   "source": [
    "from tree_maker import csv_to_jsontree"
   ]
  },
  {
   "cell_type": "code",
   "execution_count": 15,
   "metadata": {},
   "outputs": [
    {
     "data": {
      "text/plain": [
       "{'name': 'oxygen',\n",
       " 'children': [{'name': 'tree',\n",
       "   'children': [{'name': 'G1', 'children': [{'name': 'T1'}]},\n",
       "    {'name': 'G2', 'children': [{'name': 'T1'}, {'name': 'T2'}]}]},\n",
       "  {'name': 'bomb',\n",
       "   'children': [{'name': 'GYYS', 'children': [{'name': 'T1'}]}]}]}"
      ]
     },
     "execution_count": 15,
     "metadata": {},
     "output_type": "execute_result"
    }
   ],
   "source": [
    "csv_to_jsontree('test_csvfile.csv')[0]"
   ]
  }
 ],
 "metadata": {
  "kernelspec": {
   "display_name": "Python 3",
   "language": "python",
   "name": "python3"
  },
  "language_info": {
   "codemirror_mode": {
    "name": "ipython",
    "version": 3
   },
   "file_extension": ".py",
   "mimetype": "text/x-python",
   "name": "python",
   "nbconvert_exporter": "python",
   "pygments_lexer": "ipython3",
   "version": "3.7.3"
  }
 },
 "nbformat": 4,
 "nbformat_minor": 2
}
